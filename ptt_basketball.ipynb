{
 "cells": [
  {
   "cell_type": "code",
   "execution_count": 2,
   "id": "2e8a0227-2651-40cd-8faa-78bb3e1bd7cd",
   "metadata": {},
   "outputs": [
    {
     "name": "stdout",
     "output_type": "stream",
     "text": [
      "寫入成功\n"
     ]
    }
   ],
   "source": [
    "# 模仿使用者爬蟲\n",
    "import requests\n",
    "\n",
    "url = \"https://www.ptt.cc/bbs/basketballTW/index.html\"\n",
    "headers = {'User-Agent': 'Mozilla/5.0 (Windows NT 10.0; Win64; x64) AppleWebKit/537.36 (KHTML, like Gecko) Chrome/126.0.0.0 Safari/537.36'}\n",
    "response = requests.get(url, headers=headers)\n",
    "\n",
    "if response.status_code == 200:\n",
    "    with open('output.html', 'w', encoding='utf-8') as f:\n",
    "        f.write(response.text)\n",
    "    print(\"寫入成功\")\n",
    "else:\n",
    "    print(\"沒有抓到網頁\")"
   ]
  },
  {
   "cell_type": "code",
   "execution_count": 8,
   "id": "f2fae856-78da-4dde-a089-4c47518d667e",
   "metadata": {},
   "outputs": [
    {
     "name": "stdout",
     "output_type": "stream",
     "text": [
      "標題:[新聞] 新北國王今冠軍遊行　婉拒媒體採訪 人氣:32 Date: 6/23\n",
      "標題:[討論] 如果改新聯盟僅委辦跨聯盟賽事 484就下莊 人氣:3 Date: 6/23\n",
      "標題:[討論] 所以有些台籃迷幹嘛這麼氣？ 人氣:45 Date: 6/23\n",
      "標題:[LIVE] 2024新北國王冠軍遊行 人氣:爆 Date: 6/23\n",
      "標題:Re: [討論] 現在邦猿的隊職員該…. 人氣:17 Date: 6/23\n",
      "標題:[Live] ABSOLUTE 3x3 League   桃園老街溪公園 人氣:1 Date: 6/23\n",
      "標題:[討論] 現在風向好亂啊 人氣:3 Date: 6/23\n",
      "標題:[討論] 說真的台籃總冠軍辦遊行的目的是什麼？ 人氣:16 Date: 6/23\n",
      "標題:[討論] P+前後任冠軍遊行比較 人氣:37 Date: 6/23\n",
      "標題:[討論] 回頭看富邦的冠軍遊行是不是還不錯？ 人氣:20 Date: 6/23\n",
      "標題:[討論] 不共用城市是不是就會支持合併了 人氣:33 Date: 6/23\n",
      "標題:[討論] P+前代理CEO:休賽季才是真季後賽 見真章 人氣:X1 Date: 6/23\n",
      "標題:[問題] Dcard: U17在練習 教練領教練費卻出國玩? 人氣:25 Date: 6/23\n",
      "標題:[新聞] 怕什麼？新北國王今封王遊行 會前3小時 人氣:12 Date: 6/23\n",
      "標題:[分享] PLG副會長陳建州接受專訪 人氣:18 Date: 6/23\n",
      "標題:[討論] 沒有邦猿也還好 人氣:N/A Date: 6/23\n",
      "標題:[公告] 台籃板板規 2.2 人氣:N/A Date: 2/08\n",
      "標題:[情報] 2023-24 PLG/T1/SBL/WSBL 賽程表 人氣:13 Date:10/19\n",
      "標題:[公告] 季後賽條款 人氣:8 Date: 4/16\n"
     ]
    }
   ],
   "source": [
    "# 使用beautiful soup\n",
    "import requests\n",
    "from bs4 import BeautifulSoup\n",
    "\n",
    "url = \"https://www.ptt.cc/bbs/basketballTW/index.html\"\n",
    "headers = {'User-Agent': 'Mozilla/5.0 (Windows NT 10.0; Win64; x64) AppleWebKit/537.36 (KHTML, like Gecko) Chrome/126.0.0.0 Safari/537.36'}\n",
    "response = requests.get(url, headers=headers)\n",
    "soup = BeautifulSoup(response.text, \"html.parser\")\n",
    "articles = soup.find_all(\"div\", class_=\"r-ent\")\n",
    "for a in articles:\n",
    "    title = a.find(\"div\", class_=\"title\")\n",
    "    if title and title.a:\n",
    "        title = title.a.text\n",
    "    else:\n",
    "        title = \"沒有標題\"\n",
    "    \n",
    "    popular = a.find(\"div\", class_=\"nrec\")\n",
    "    if popular and popular.span:\n",
    "        popular = popular.span.text\n",
    "    else:\n",
    "        popular = \"N/A\"\n",
    "    \n",
    "    \n",
    "    date = a.find(\"div\", class_=\"date\")\n",
    "    if date:\n",
    "        date = date.text\n",
    "    else:\n",
    "        date = \"N/A\"\n",
    "        \n",
    "    print(f\"標題:{title} 人氣:{popular} 日期:{date}\")"
   ]
  },
  {
   "cell_type": "code",
   "execution_count": 11,
   "id": "35d2ce57",
   "metadata": {},
   "outputs": [
    {
     "name": "stdout",
     "output_type": "stream",
     "text": [
      "資料已儲存為ptt_basketball.json\n"
     ]
    }
   ],
   "source": [
    "# 將資料存在json檔\n",
    "import requests\n",
    "from bs4 import BeautifulSoup\n",
    "import json\n",
    "\n",
    "url = \"https://www.ptt.cc/bbs/basketballTW/index.html\"\n",
    "headers = {'User-Agent': 'Mozilla/5.0 (Windows NT 10.0; Win64; x64) AppleWebKit/537.36 (KHTML, like Gecko) Chrome/126.0.0.0 Safari/537.36'}\n",
    "response = requests.get(url, headers=headers)\n",
    "soup = BeautifulSoup(response.text, \"html.parser\")\n",
    "articles = soup.find_all(\"div\", class_=\"r-ent\")\n",
    "data_list = []\n",
    "\n",
    "for a in articles:\n",
    "    data = {}\n",
    "    title = a.find(\"div\", class_=\"title\")\n",
    "    if title and title.a:\n",
    "        title = title.a.text\n",
    "    else:\n",
    "        title = \"沒有標題\"\n",
    "    data[\"標題\"] = title\n",
    "    \n",
    "    popular = a.find(\"div\", class_=\"nrec\")\n",
    "    if popular and popular.span:\n",
    "        popular = popular.span.text\n",
    "    else:\n",
    "        popular = \"N/A\"\n",
    "    data[\"人氣\"] = popular\n",
    "    \n",
    "    date = a.find(\"div\", class_=\"date\")\n",
    "    if date:\n",
    "        date = date.text\n",
    "    else:\n",
    "        date = \"N/A\"\n",
    "    data[\"日期\"] = date\n",
    "    data_list.append(data)\n",
    "with open (\"ptt_basketball_data.json\", \"w\", encoding=\"utf-8\") as file:\n",
    "    json.dump(data_list, file, ensure_ascii=False, indent=4)\n",
    "print(\"資料已儲存為ptt_basketball.json\")"
   ]
  },
  {
   "cell_type": "code",
   "execution_count": 2,
   "id": "35150442",
   "metadata": {},
   "outputs": [],
   "source": [
    "# 將資料存在excel\n",
    "import requests\n",
    "from bs4 import BeautifulSoup\n",
    "import pandas as pd\n",
    "\n",
    "url = \"https://www.ptt.cc/bbs/basketballTW/index.html\"\n",
    "headers = {'User-Agent': 'Mozilla/5.0 (Windows NT 10.0; Win64; x64) AppleWebKit/537.36 (KHTML, like Gecko) Chrome/126.0.0.0 Safari/537.36'}\n",
    "response = requests.get(url, headers=headers)\n",
    "soup = BeautifulSoup(response.text, \"html.parser\")\n",
    "articles = soup.find_all(\"div\", class_=\"r-ent\")\n",
    "data_list = []\n",
    "\n",
    "for a in articles:\n",
    "    data = {}\n",
    "    title = a.find(\"div\", class_=\"title\")\n",
    "    if title and title.a:\n",
    "        title = title.a.text\n",
    "    else:\n",
    "        title = \"沒有標題\"\n",
    "    data[\"標題\"] = title\n",
    "    \n",
    "    popular = a.find(\"div\", class_=\"nrec\")\n",
    "    if popular and popular.span:\n",
    "        popular = popular.span.text\n",
    "    else:\n",
    "        popular = \"N/A\"\n",
    "    data[\"人氣\"] = popular\n",
    "    \n",
    "    date = a.find(\"div\", class_=\"date\")\n",
    "    if date:\n",
    "        date = date.text\n",
    "    else:\n",
    "        date = \"N/A\"\n",
    "    data[\"日期\"] = date\n",
    "    data_list.append(data)\n",
    "df = pd.DataFrame(data_list)\n",
    "df.to_excel(\"ptt_basketball.xlsx\", index=False, engine=\"openpyxl\")"
   ]
  }
 ],
 "metadata": {
  "kernelspec": {
   "display_name": "Python 3 (ipykernel)",
   "language": "python",
   "name": "python3"
  },
  "language_info": {
   "codemirror_mode": {
    "name": "ipython",
    "version": 3
   },
   "file_extension": ".py",
   "mimetype": "text/x-python",
   "name": "python",
   "nbconvert_exporter": "python",
   "pygments_lexer": "ipython3",
   "version": "3.12.4"
  }
 },
 "nbformat": 4,
 "nbformat_minor": 5
}
